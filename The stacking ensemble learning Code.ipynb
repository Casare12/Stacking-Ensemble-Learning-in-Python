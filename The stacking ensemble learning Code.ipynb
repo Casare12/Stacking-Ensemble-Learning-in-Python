{
 "cells": [
  {
   "cell_type": "code",
   "execution_count": 1,
   "id": "48abdc4e",
   "metadata": {},
   "outputs": [],
   "source": [
    "import pandas as pd\n",
    "import numpy as np\n",
    "from sklearn.preprocessing import MinMaxScaler\n",
    "from sklearn.model_selection import train_test_split, GridSearchCV, KFold\n",
    "from sklearn.linear_model import LinearRegression\n",
    "from sklearn.tree import DecisionTreeRegressor\n",
    "from sklearn.ensemble import RandomForestRegressor\n",
    "from sklearn.svm import SVR\n",
    "from sklearn.neural_network import MLPRegressor\n",
    "from sklearn.metrics import mean_squared_error\n",
    "from mlxtend.regressor import StackingRegressor\n",
    "from sklearn.metrics import mean_squared_error, r2_score, mean_absolute_error, accuracy_score"
   ]
  },
  {
   "cell_type": "code",
   "execution_count": 2,
   "id": "b481507a",
   "metadata": {},
   "outputs": [
    {
     "data": {
      "text/html": [
       "<div>\n",
       "<style scoped>\n",
       "    .dataframe tbody tr th:only-of-type {\n",
       "        vertical-align: middle;\n",
       "    }\n",
       "\n",
       "    .dataframe tbody tr th {\n",
       "        vertical-align: top;\n",
       "    }\n",
       "\n",
       "    .dataframe thead th {\n",
       "        text-align: right;\n",
       "    }\n",
       "</style>\n",
       "<table border=\"1\" class=\"dataframe\">\n",
       "  <thead>\n",
       "    <tr style=\"text-align: right;\">\n",
       "      <th></th>\n",
       "      <th>Year</th>\n",
       "      <th>Yield</th>\n",
       "      <th>Min Temp</th>\n",
       "      <th>Max Temp</th>\n",
       "      <th>Rainfall</th>\n",
       "      <th>Sunshine</th>\n",
       "    </tr>\n",
       "  </thead>\n",
       "  <tbody>\n",
       "    <tr>\n",
       "      <th>0</th>\n",
       "      <td>1992</td>\n",
       "      <td>1.47</td>\n",
       "      <td>21.92</td>\n",
       "      <td>31.04</td>\n",
       "      <td>183.08</td>\n",
       "      <td>6.82</td>\n",
       "    </tr>\n",
       "    <tr>\n",
       "      <th>1</th>\n",
       "      <td>1993</td>\n",
       "      <td>1.80</td>\n",
       "      <td>21.87</td>\n",
       "      <td>31.26</td>\n",
       "      <td>145.70</td>\n",
       "      <td>7.58</td>\n",
       "    </tr>\n",
       "    <tr>\n",
       "      <th>2</th>\n",
       "      <td>1994</td>\n",
       "      <td>1.91</td>\n",
       "      <td>22.12</td>\n",
       "      <td>31.06</td>\n",
       "      <td>174.30</td>\n",
       "      <td>6.58</td>\n",
       "    </tr>\n",
       "    <tr>\n",
       "      <th>3</th>\n",
       "      <td>1995</td>\n",
       "      <td>1.92</td>\n",
       "      <td>22.03</td>\n",
       "      <td>31.61</td>\n",
       "      <td>113.38</td>\n",
       "      <td>7.18</td>\n",
       "    </tr>\n",
       "    <tr>\n",
       "      <th>4</th>\n",
       "      <td>1996</td>\n",
       "      <td>1.92</td>\n",
       "      <td>22.15</td>\n",
       "      <td>31.26</td>\n",
       "      <td>203.42</td>\n",
       "      <td>7.04</td>\n",
       "    </tr>\n",
       "  </tbody>\n",
       "</table>\n",
       "</div>"
      ],
      "text/plain": [
       "   Year  Yield  Min Temp  Max Temp  Rainfall  Sunshine\n",
       "0  1992   1.47     21.92     31.04    183.08      6.82\n",
       "1  1993   1.80     21.87     31.26    145.70      7.58\n",
       "2  1994   1.91     22.12     31.06    174.30      6.58\n",
       "3  1995   1.92     22.03     31.61    113.38      7.18\n",
       "4  1996   1.92     22.15     31.26    203.42      7.04"
      ]
     },
     "execution_count": 2,
     "metadata": {},
     "output_type": "execute_result"
    }
   ],
   "source": [
    "# Load the dataset\n",
    "data1 = pd.read_csv('CLIMATE DATA.csv')\n",
    "data1.head()"
   ]
  },
  {
   "cell_type": "code",
   "execution_count": 3,
   "id": "587c437c",
   "metadata": {},
   "outputs": [
    {
     "data": {
      "text/plain": [
       "Year        0\n",
       "Yield       0\n",
       "Min Temp    0\n",
       "Max Temp    0\n",
       "Rainfall    1\n",
       "Sunshine    1\n",
       "dtype: int64"
      ]
     },
     "execution_count": 3,
     "metadata": {},
     "output_type": "execute_result"
    }
   ],
   "source": [
    "data1.isna().sum()"
   ]
  },
  {
   "cell_type": "code",
   "execution_count": 4,
   "id": "24ffdd79",
   "metadata": {},
   "outputs": [
    {
     "data": {
      "text/plain": [
       "Year        0\n",
       "Yield       0\n",
       "Min Temp    0\n",
       "Max Temp    0\n",
       "Rainfall    0\n",
       "Sunshine    0\n",
       "dtype: int64"
      ]
     },
     "execution_count": 4,
     "metadata": {},
     "output_type": "execute_result"
    }
   ],
   "source": [
    "data = data1.dropna()\n",
    "data.isna().sum()"
   ]
  },
  {
   "cell_type": "code",
   "execution_count": 5,
   "id": "92f1622a",
   "metadata": {},
   "outputs": [],
   "source": [
    "X=data.drop(['Year','Yield'], axis='columns')\n",
    "y=data.Yield"
   ]
  },
  {
   "cell_type": "code",
   "execution_count": 6,
   "id": "0d12e8d4",
   "metadata": {},
   "outputs": [],
   "source": [
    "scaler = MinMaxScaler()\n",
    "scaler.fit(data)\n",
    "data = scaler.transform(data)"
   ]
  },
  {
   "cell_type": "code",
   "execution_count": 7,
   "id": "e4dc4939",
   "metadata": {},
   "outputs": [],
   "source": [
    "# Split the data into training and testing sets\n",
    "X_train, X_test, y_train, y_test = train_test_split(X, y, test_size=0.2, random_state=0)"
   ]
  },
  {
   "cell_type": "code",
   "execution_count": 8,
   "id": "ed2d6c24",
   "metadata": {},
   "outputs": [],
   "source": [
    "# Define the base models\n",
    "lr = LinearRegression()\n",
    "dt = DecisionTreeRegressor(random_state=0)\n",
    "rf = RandomForestRegressor(random_state=0)\n",
    "svm = SVR()\n",
    "nn = MLPRegressor(random_state=0)"
   ]
  },
  {
   "cell_type": "code",
   "execution_count": 9,
   "id": "e4151a05",
   "metadata": {},
   "outputs": [],
   "source": [
    "# Define the parameter grids for hyperparameter tuning\n",
    "lr_params = {}\n",
    "dt_params = {'max_depth': [None, 5, 10, 15],\n",
    "             'min_samples_split': [2, 5, 10],\n",
    "             'min_samples_leaf': [1, 2, 4]}\n",
    "rf_params = {'n_estimators': [100, 200, 500],\n",
    "             'max_depth': [None, 5, 10, 15],\n",
    "             'min_samples_split': [2, 5, 10],\n",
    "             'min_samples_leaf': [1, 2, 4]}\n",
    "svm_params = {'C': [0.1, 1, 10],\n",
    "              'kernel': ['linear', 'poly', 'rbf', 'sigmoid'],\n",
    "              'degree': [2, 3, 4]}\n",
    "nn_params = {'hidden_layer_sizes': [(100,), (50,50), (100,50,25)],\n",
    "             'activation': ['relu', 'logistic', 'tanh'],\n",
    "             'alpha': [0.0001, 0.001, 0.01]}"
   ]
  },
  {
   "cell_type": "code",
   "execution_count": 10,
   "id": "1c57a739",
   "metadata": {},
   "outputs": [],
   "source": [
    "# Define the k-fold cross-validation object\n",
    "kf = KFold(n_splits=5, shuffle=True, random_state=42)"
   ]
  },
  {
   "cell_type": "code",
   "execution_count": 11,
   "id": "fc4ad7c2",
   "metadata": {},
   "outputs": [],
   "source": [
    "# Perform hyperparameter tuning for each base model using GridSearchCV and 5-fold cross-validation\n",
    "lr_gs = GridSearchCV(lr, lr_params, cv=kf, scoring='neg_mean_squared_error')\n",
    "dt_gs = GridSearchCV(dt, dt_params, cv=kf, scoring='neg_mean_squared_error')\n",
    "rf_gs = GridSearchCV(rf, rf_params, cv=kf, scoring='neg_mean_squared_error')\n",
    "svm_gs = GridSearchCV(svm, svm_params, cv=kf, scoring='neg_mean_squared_error')\n",
    "nn_gs = GridSearchCV(nn, nn_params, cv=kf, scoring='neg_mean_squared_error')"
   ]
  },
  {
   "cell_type": "code",
   "execution_count": 12,
   "id": "a7f9b5b8",
   "metadata": {},
   "outputs": [
    {
     "name": "stderr",
     "output_type": "stream",
     "text": [
      "C:\\Users\\CLEMENT\\anaconda3\\lib\\site-packages\\sklearn\\neural_network\\_multilayer_perceptron.py:686: ConvergenceWarning: Stochastic Optimizer: Maximum iterations (200) reached and the optimization hasn't converged yet.\n",
      "  warnings.warn(\n",
      "C:\\Users\\CLEMENT\\anaconda3\\lib\\site-packages\\sklearn\\neural_network\\_multilayer_perceptron.py:686: ConvergenceWarning: Stochastic Optimizer: Maximum iterations (200) reached and the optimization hasn't converged yet.\n",
      "  warnings.warn(\n",
      "C:\\Users\\CLEMENT\\anaconda3\\lib\\site-packages\\sklearn\\neural_network\\_multilayer_perceptron.py:686: ConvergenceWarning: Stochastic Optimizer: Maximum iterations (200) reached and the optimization hasn't converged yet.\n",
      "  warnings.warn(\n"
     ]
    },
    {
     "data": {
      "text/html": [
       "<style>#sk-container-id-1 {color: black;background-color: white;}#sk-container-id-1 pre{padding: 0;}#sk-container-id-1 div.sk-toggleable {background-color: white;}#sk-container-id-1 label.sk-toggleable__label {cursor: pointer;display: block;width: 100%;margin-bottom: 0;padding: 0.3em;box-sizing: border-box;text-align: center;}#sk-container-id-1 label.sk-toggleable__label-arrow:before {content: \"▸\";float: left;margin-right: 0.25em;color: #696969;}#sk-container-id-1 label.sk-toggleable__label-arrow:hover:before {color: black;}#sk-container-id-1 div.sk-estimator:hover label.sk-toggleable__label-arrow:before {color: black;}#sk-container-id-1 div.sk-toggleable__content {max-height: 0;max-width: 0;overflow: hidden;text-align: left;background-color: #f0f8ff;}#sk-container-id-1 div.sk-toggleable__content pre {margin: 0.2em;color: black;border-radius: 0.25em;background-color: #f0f8ff;}#sk-container-id-1 input.sk-toggleable__control:checked~div.sk-toggleable__content {max-height: 200px;max-width: 100%;overflow: auto;}#sk-container-id-1 input.sk-toggleable__control:checked~label.sk-toggleable__label-arrow:before {content: \"▾\";}#sk-container-id-1 div.sk-estimator input.sk-toggleable__control:checked~label.sk-toggleable__label {background-color: #d4ebff;}#sk-container-id-1 div.sk-label input.sk-toggleable__control:checked~label.sk-toggleable__label {background-color: #d4ebff;}#sk-container-id-1 input.sk-hidden--visually {border: 0;clip: rect(1px 1px 1px 1px);clip: rect(1px, 1px, 1px, 1px);height: 1px;margin: -1px;overflow: hidden;padding: 0;position: absolute;width: 1px;}#sk-container-id-1 div.sk-estimator {font-family: monospace;background-color: #f0f8ff;border: 1px dotted black;border-radius: 0.25em;box-sizing: border-box;margin-bottom: 0.5em;}#sk-container-id-1 div.sk-estimator:hover {background-color: #d4ebff;}#sk-container-id-1 div.sk-parallel-item::after {content: \"\";width: 100%;border-bottom: 1px solid gray;flex-grow: 1;}#sk-container-id-1 div.sk-label:hover label.sk-toggleable__label {background-color: #d4ebff;}#sk-container-id-1 div.sk-serial::before {content: \"\";position: absolute;border-left: 1px solid gray;box-sizing: border-box;top: 0;bottom: 0;left: 50%;z-index: 0;}#sk-container-id-1 div.sk-serial {display: flex;flex-direction: column;align-items: center;background-color: white;padding-right: 0.2em;padding-left: 0.2em;position: relative;}#sk-container-id-1 div.sk-item {position: relative;z-index: 1;}#sk-container-id-1 div.sk-parallel {display: flex;align-items: stretch;justify-content: center;background-color: white;position: relative;}#sk-container-id-1 div.sk-item::before, #sk-container-id-1 div.sk-parallel-item::before {content: \"\";position: absolute;border-left: 1px solid gray;box-sizing: border-box;top: 0;bottom: 0;left: 50%;z-index: -1;}#sk-container-id-1 div.sk-parallel-item {display: flex;flex-direction: column;z-index: 1;position: relative;background-color: white;}#sk-container-id-1 div.sk-parallel-item:first-child::after {align-self: flex-end;width: 50%;}#sk-container-id-1 div.sk-parallel-item:last-child::after {align-self: flex-start;width: 50%;}#sk-container-id-1 div.sk-parallel-item:only-child::after {width: 0;}#sk-container-id-1 div.sk-dashed-wrapped {border: 1px dashed gray;margin: 0 0.4em 0.5em 0.4em;box-sizing: border-box;padding-bottom: 0.4em;background-color: white;}#sk-container-id-1 div.sk-label label {font-family: monospace;font-weight: bold;display: inline-block;line-height: 1.2em;}#sk-container-id-1 div.sk-label-container {text-align: center;}#sk-container-id-1 div.sk-container {/* jupyter's `normalize.less` sets `[hidden] { display: none; }` but bootstrap.min.css set `[hidden] { display: none !important; }` so we also need the `!important` here to be able to override the default hidden behavior on the sphinx rendered scikit-learn.org. See: https://github.com/scikit-learn/scikit-learn/issues/21755 */display: inline-block !important;position: relative;}#sk-container-id-1 div.sk-text-repr-fallback {display: none;}</style><div id=\"sk-container-id-1\" class=\"sk-top-container\"><div class=\"sk-text-repr-fallback\"><pre>GridSearchCV(cv=KFold(n_splits=5, random_state=42, shuffle=True),\n",
       "             estimator=MLPRegressor(random_state=0),\n",
       "             param_grid={&#x27;activation&#x27;: [&#x27;relu&#x27;, &#x27;logistic&#x27;, &#x27;tanh&#x27;],\n",
       "                         &#x27;alpha&#x27;: [0.0001, 0.001, 0.01],\n",
       "                         &#x27;hidden_layer_sizes&#x27;: [(100,), (50, 50),\n",
       "                                                (100, 50, 25)]},\n",
       "             scoring=&#x27;neg_mean_squared_error&#x27;)</pre><b>In a Jupyter environment, please rerun this cell to show the HTML representation or trust the notebook. <br />On GitHub, the HTML representation is unable to render, please try loading this page with nbviewer.org.</b></div><div class=\"sk-container\" hidden><div class=\"sk-item sk-dashed-wrapped\"><div class=\"sk-label-container\"><div class=\"sk-label sk-toggleable\"><input class=\"sk-toggleable__control sk-hidden--visually\" id=\"sk-estimator-id-1\" type=\"checkbox\" ><label for=\"sk-estimator-id-1\" class=\"sk-toggleable__label sk-toggleable__label-arrow\">GridSearchCV</label><div class=\"sk-toggleable__content\"><pre>GridSearchCV(cv=KFold(n_splits=5, random_state=42, shuffle=True),\n",
       "             estimator=MLPRegressor(random_state=0),\n",
       "             param_grid={&#x27;activation&#x27;: [&#x27;relu&#x27;, &#x27;logistic&#x27;, &#x27;tanh&#x27;],\n",
       "                         &#x27;alpha&#x27;: [0.0001, 0.001, 0.01],\n",
       "                         &#x27;hidden_layer_sizes&#x27;: [(100,), (50, 50),\n",
       "                                                (100, 50, 25)]},\n",
       "             scoring=&#x27;neg_mean_squared_error&#x27;)</pre></div></div></div><div class=\"sk-parallel\"><div class=\"sk-parallel-item\"><div class=\"sk-item\"><div class=\"sk-label-container\"><div class=\"sk-label sk-toggleable\"><input class=\"sk-toggleable__control sk-hidden--visually\" id=\"sk-estimator-id-2\" type=\"checkbox\" ><label for=\"sk-estimator-id-2\" class=\"sk-toggleable__label sk-toggleable__label-arrow\">estimator: MLPRegressor</label><div class=\"sk-toggleable__content\"><pre>MLPRegressor(random_state=0)</pre></div></div></div><div class=\"sk-serial\"><div class=\"sk-item\"><div class=\"sk-estimator sk-toggleable\"><input class=\"sk-toggleable__control sk-hidden--visually\" id=\"sk-estimator-id-3\" type=\"checkbox\" ><label for=\"sk-estimator-id-3\" class=\"sk-toggleable__label sk-toggleable__label-arrow\">MLPRegressor</label><div class=\"sk-toggleable__content\"><pre>MLPRegressor(random_state=0)</pre></div></div></div></div></div></div></div></div></div></div>"
      ],
      "text/plain": [
       "GridSearchCV(cv=KFold(n_splits=5, random_state=42, shuffle=True),\n",
       "             estimator=MLPRegressor(random_state=0),\n",
       "             param_grid={'activation': ['relu', 'logistic', 'tanh'],\n",
       "                         'alpha': [0.0001, 0.001, 0.01],\n",
       "                         'hidden_layer_sizes': [(100,), (50, 50),\n",
       "                                                (100, 50, 25)]},\n",
       "             scoring='neg_mean_squared_error')"
      ]
     },
     "execution_count": 12,
     "metadata": {},
     "output_type": "execute_result"
    }
   ],
   "source": [
    "# Fit the base models with hyperparameter tuning on the training data\n",
    "lr_gs.fit(X_train, y_train)\n",
    "dt_gs.fit(X_train, y_train)\n",
    "rf_gs.fit(X_train, y_train)\n",
    "svm_gs.fit(X_train, y_train)\n",
    "nn_gs.fit(X_train, y_train)"
   ]
  },
  {
   "cell_type": "code",
   "execution_count": 13,
   "id": "3b8d576b",
   "metadata": {},
   "outputs": [],
   "source": [
    "# Make predictions on the test data using the best hyperparameters for each base model\n",
    "lr_pred = lr_gs.predict(X_test)\n",
    "dt_pred = dt_gs.predict(X_test)\n",
    "rf_pred = rf_gs.predict(X_test)\n",
    "svm_pred = svm_gs.predict(X_test)\n",
    "nn_pred = nn_gs.predict(X_test)"
   ]
  },
  {
   "cell_type": "code",
   "execution_count": 14,
   "id": "9a27189d",
   "metadata": {},
   "outputs": [
    {
     "name": "stdout",
     "output_type": "stream",
     "text": [
      "Linear regression R2: 0.15267971412397485\n",
      "Decision Tree R2: 0.7159235853432285\n",
      "Random Forest R2: 0.7794945629693338\n",
      "Support Vector Machine R2: 0.14914329838848683\n",
      "Neural Network R2: -0.06393979932259941\n",
      "Linear regression MAE: 0.3030550808443197\n",
      "Decision Tree MAE: 0.1691666666666666\n",
      "Random Forest MAE: 0.15515937169856317\n",
      "Support Vector Machine MAE: 0.3090981504762831\n",
      "Neural Network MAE: 0.3339239210830276\n",
      "Linear regression MSE: 0.12178816908991404\n",
      "Decision Tree MSE:  0.040831249999999965\n",
      "Random Forest MSE: 0.031693981482541086\n",
      "Support Vector Machine MSE: 0.12229646991162818\n",
      "Neural Network MSE:  0.152923613822635\n",
      "Linear regression RMSE: 0.3489816171231861\n",
      "Decision Tree RMSE: 0.3489816171231861\n",
      "Random Forest RMSE: 0.17802803566444553\n",
      "Support Vector Machine RMSE: 0.3497091218593364\n",
      "Neural Network RMSE: 0.3910544895825069\n"
     ]
    }
   ],
   "source": [
    "# Evaluate the performance of each base model using mean squared error\n",
    "lr_r2 = r2_score(y_test, lr_pred)\n",
    "lr_mae = mean_absolute_error(y_test, lr_pred)\n",
    "lr_mse = mean_squared_error(y_test, lr_pred)\n",
    "lr_rmse = mean_squared_error(y_test, lr_pred, squared=False)\n",
    "dt_r2 = r2_score(y_test, dt_pred)\n",
    "dt_mae = mean_absolute_error(y_test, dt_pred)\n",
    "dt_mse = mean_squared_error(y_test, dt_pred)\n",
    "dt_rmse = mean_squared_error(y_test, dt_pred, squared=False)\n",
    "rf_r2 = r2_score(y_test, rf_pred)\n",
    "rf_mae = mean_absolute_error(y_test, rf_pred)\n",
    "rf_mse = mean_squared_error(y_test, rf_pred)\n",
    "rf_rmse = mean_squared_error(y_test, rf_pred, squared=False)\n",
    "svm_r2 = r2_score(y_test, svm_pred)\n",
    "svm_mae = mean_absolute_error(y_test, svm_pred)\n",
    "svm_mse = mean_squared_error(y_test, svm_pred)\n",
    "svm_rmse = mean_squared_error(y_test, svm_pred, squared=False)\n",
    "nn_r2 = r2_score(y_test, nn_pred)\n",
    "nn_mae = mean_absolute_error(y_test, nn_pred)\n",
    "nn_mse = mean_squared_error(y_test, nn_pred)\n",
    "nn_rmse = mean_squared_error(y_test, nn_pred, squared=False)\n",
    "\n",
    "\n",
    "print('Linear regression R2:', lr_r2)\n",
    "print('Decision Tree R2:', dt_r2)\n",
    "print('Random Forest R2:', rf_r2)\n",
    "print('Support Vector Machine R2:', svm_r2)\n",
    "print('Neural Network R2:', nn_r2)\n",
    "print('Linear regression MAE:', lr_mae)\n",
    "print('Decision Tree MAE:', dt_mae)\n",
    "print('Random Forest MAE:', rf_mae)\n",
    "print('Support Vector Machine MAE:', svm_mae)\n",
    "print('Neural Network MAE:', nn_mae)\n",
    "print('Linear regression MSE:', lr_mse)\n",
    "print(\"Decision Tree MSE: \", dt_mse)\n",
    "print('Random Forest MSE:', rf_mse)\n",
    "print('Support Vector Machine MSE:', svm_mse)\n",
    "print(\"Neural Network MSE: \", nn_mse)\n",
    "print('Linear regression RMSE:', lr_rmse)\n",
    "print('Decision Tree RMSE:', lr_rmse)\n",
    "print('Random Forest RMSE:', rf_rmse)\n",
    "print('Support Vector Machine RMSE:', svm_rmse)\n",
    "print('Neural Network RMSE:', nn_rmse)"
   ]
  },
  {
   "cell_type": "code",
   "execution_count": 15,
   "id": "66bd74a3",
   "metadata": {},
   "outputs": [],
   "source": [
    "# Build the Stacking Ensemble model using the 5 base models\n",
    "stacked = StackingRegressor(regressors=[lr_gs.best_estimator_, dt_gs.best_estimator_,\n",
    "                                        rf_gs.best_estimator_, svm_gs.best_estimator_, nn_gs.best_estimator_],\n",
    "                            meta_regressor=lr_gs.best_estimator_)"
   ]
  },
  {
   "cell_type": "code",
   "execution_count": 16,
   "id": "0e2d14f9",
   "metadata": {},
   "outputs": [
    {
     "data": {
      "text/html": [
       "<style>#sk-container-id-2 {color: black;background-color: white;}#sk-container-id-2 pre{padding: 0;}#sk-container-id-2 div.sk-toggleable {background-color: white;}#sk-container-id-2 label.sk-toggleable__label {cursor: pointer;display: block;width: 100%;margin-bottom: 0;padding: 0.3em;box-sizing: border-box;text-align: center;}#sk-container-id-2 label.sk-toggleable__label-arrow:before {content: \"▸\";float: left;margin-right: 0.25em;color: #696969;}#sk-container-id-2 label.sk-toggleable__label-arrow:hover:before {color: black;}#sk-container-id-2 div.sk-estimator:hover label.sk-toggleable__label-arrow:before {color: black;}#sk-container-id-2 div.sk-toggleable__content {max-height: 0;max-width: 0;overflow: hidden;text-align: left;background-color: #f0f8ff;}#sk-container-id-2 div.sk-toggleable__content pre {margin: 0.2em;color: black;border-radius: 0.25em;background-color: #f0f8ff;}#sk-container-id-2 input.sk-toggleable__control:checked~div.sk-toggleable__content {max-height: 200px;max-width: 100%;overflow: auto;}#sk-container-id-2 input.sk-toggleable__control:checked~label.sk-toggleable__label-arrow:before {content: \"▾\";}#sk-container-id-2 div.sk-estimator input.sk-toggleable__control:checked~label.sk-toggleable__label {background-color: #d4ebff;}#sk-container-id-2 div.sk-label input.sk-toggleable__control:checked~label.sk-toggleable__label {background-color: #d4ebff;}#sk-container-id-2 input.sk-hidden--visually {border: 0;clip: rect(1px 1px 1px 1px);clip: rect(1px, 1px, 1px, 1px);height: 1px;margin: -1px;overflow: hidden;padding: 0;position: absolute;width: 1px;}#sk-container-id-2 div.sk-estimator {font-family: monospace;background-color: #f0f8ff;border: 1px dotted black;border-radius: 0.25em;box-sizing: border-box;margin-bottom: 0.5em;}#sk-container-id-2 div.sk-estimator:hover {background-color: #d4ebff;}#sk-container-id-2 div.sk-parallel-item::after {content: \"\";width: 100%;border-bottom: 1px solid gray;flex-grow: 1;}#sk-container-id-2 div.sk-label:hover label.sk-toggleable__label {background-color: #d4ebff;}#sk-container-id-2 div.sk-serial::before {content: \"\";position: absolute;border-left: 1px solid gray;box-sizing: border-box;top: 0;bottom: 0;left: 50%;z-index: 0;}#sk-container-id-2 div.sk-serial {display: flex;flex-direction: column;align-items: center;background-color: white;padding-right: 0.2em;padding-left: 0.2em;position: relative;}#sk-container-id-2 div.sk-item {position: relative;z-index: 1;}#sk-container-id-2 div.sk-parallel {display: flex;align-items: stretch;justify-content: center;background-color: white;position: relative;}#sk-container-id-2 div.sk-item::before, #sk-container-id-2 div.sk-parallel-item::before {content: \"\";position: absolute;border-left: 1px solid gray;box-sizing: border-box;top: 0;bottom: 0;left: 50%;z-index: -1;}#sk-container-id-2 div.sk-parallel-item {display: flex;flex-direction: column;z-index: 1;position: relative;background-color: white;}#sk-container-id-2 div.sk-parallel-item:first-child::after {align-self: flex-end;width: 50%;}#sk-container-id-2 div.sk-parallel-item:last-child::after {align-self: flex-start;width: 50%;}#sk-container-id-2 div.sk-parallel-item:only-child::after {width: 0;}#sk-container-id-2 div.sk-dashed-wrapped {border: 1px dashed gray;margin: 0 0.4em 0.5em 0.4em;box-sizing: border-box;padding-bottom: 0.4em;background-color: white;}#sk-container-id-2 div.sk-label label {font-family: monospace;font-weight: bold;display: inline-block;line-height: 1.2em;}#sk-container-id-2 div.sk-label-container {text-align: center;}#sk-container-id-2 div.sk-container {/* jupyter's `normalize.less` sets `[hidden] { display: none; }` but bootstrap.min.css set `[hidden] { display: none !important; }` so we also need the `!important` here to be able to override the default hidden behavior on the sphinx rendered scikit-learn.org. See: https://github.com/scikit-learn/scikit-learn/issues/21755 */display: inline-block !important;position: relative;}#sk-container-id-2 div.sk-text-repr-fallback {display: none;}</style><div id=\"sk-container-id-2\" class=\"sk-top-container\"><div class=\"sk-text-repr-fallback\"><pre>StackingRegressor(meta_regressor=LinearRegression(),\n",
       "                  regressors=[LinearRegression(),\n",
       "                              DecisionTreeRegressor(max_depth=5,\n",
       "                                                    min_samples_leaf=2,\n",
       "                                                    min_samples_split=5,\n",
       "                                                    random_state=0),\n",
       "                              RandomForestRegressor(min_samples_split=10,\n",
       "                                                    random_state=0),\n",
       "                              SVR(C=0.1, degree=2, kernel=&#x27;linear&#x27;),\n",
       "                              MLPRegressor(activation=&#x27;logistic&#x27;, alpha=0.001,\n",
       "                                           hidden_layer_sizes=(100, 50, 25),\n",
       "                                           random_state=0)])</pre><b>In a Jupyter environment, please rerun this cell to show the HTML representation or trust the notebook. <br />On GitHub, the HTML representation is unable to render, please try loading this page with nbviewer.org.</b></div><div class=\"sk-container\" hidden><div class=\"sk-item sk-dashed-wrapped\"><div class=\"sk-label-container\"><div class=\"sk-label sk-toggleable\"><input class=\"sk-toggleable__control sk-hidden--visually\" id=\"sk-estimator-id-4\" type=\"checkbox\" ><label for=\"sk-estimator-id-4\" class=\"sk-toggleable__label sk-toggleable__label-arrow\">StackingRegressor</label><div class=\"sk-toggleable__content\"><pre>StackingRegressor(meta_regressor=LinearRegression(),\n",
       "                  regressors=[LinearRegression(),\n",
       "                              DecisionTreeRegressor(max_depth=5,\n",
       "                                                    min_samples_leaf=2,\n",
       "                                                    min_samples_split=5,\n",
       "                                                    random_state=0),\n",
       "                              RandomForestRegressor(min_samples_split=10,\n",
       "                                                    random_state=0),\n",
       "                              SVR(C=0.1, degree=2, kernel=&#x27;linear&#x27;),\n",
       "                              MLPRegressor(activation=&#x27;logistic&#x27;, alpha=0.001,\n",
       "                                           hidden_layer_sizes=(100, 50, 25),\n",
       "                                           random_state=0)])</pre></div></div></div><div class=\"sk-parallel\"><div class=\"sk-parallel-item\"><div class=\"sk-item\"><div class=\"sk-label-container\"><div class=\"sk-label sk-toggleable\"><input class=\"sk-toggleable__control sk-hidden--visually\" id=\"sk-estimator-id-5\" type=\"checkbox\" ><label for=\"sk-estimator-id-5\" class=\"sk-toggleable__label sk-toggleable__label-arrow\">meta_regressor: LinearRegression</label><div class=\"sk-toggleable__content\"><pre>LinearRegression()</pre></div></div></div><div class=\"sk-serial\"><div class=\"sk-item\"><div class=\"sk-estimator sk-toggleable\"><input class=\"sk-toggleable__control sk-hidden--visually\" id=\"sk-estimator-id-6\" type=\"checkbox\" ><label for=\"sk-estimator-id-6\" class=\"sk-toggleable__label sk-toggleable__label-arrow\">LinearRegression</label><div class=\"sk-toggleable__content\"><pre>LinearRegression()</pre></div></div></div></div></div></div></div></div></div></div>"
      ],
      "text/plain": [
       "StackingRegressor(meta_regressor=LinearRegression(),\n",
       "                  regressors=[LinearRegression(),\n",
       "                              DecisionTreeRegressor(max_depth=5,\n",
       "                                                    min_samples_leaf=2,\n",
       "                                                    min_samples_split=5,\n",
       "                                                    random_state=0),\n",
       "                              RandomForestRegressor(min_samples_split=10,\n",
       "                                                    random_state=0),\n",
       "                              SVR(C=0.1, degree=2, kernel='linear'),\n",
       "                              MLPRegressor(activation='logistic', alpha=0.001,\n",
       "                                           hidden_layer_sizes=(100, 50, 25),\n",
       "                                           random_state=0)])"
      ]
     },
     "execution_count": 16,
     "metadata": {},
     "output_type": "execute_result"
    }
   ],
   "source": [
    "# Fit the Stacking Ensemble model on the training data\n",
    "stacked.fit(X_train, y_train)"
   ]
  },
  {
   "cell_type": "code",
   "execution_count": 17,
   "id": "bb6ac200",
   "metadata": {},
   "outputs": [
    {
     "name": "stderr",
     "output_type": "stream",
     "text": [
      "C:\\Users\\CLEMENT\\anaconda3\\lib\\site-packages\\sklearn\\base.py:432: UserWarning: X has feature names, but LinearRegression was fitted without feature names\n",
      "  warnings.warn(\n",
      "C:\\Users\\CLEMENT\\anaconda3\\lib\\site-packages\\sklearn\\base.py:432: UserWarning: X has feature names, but DecisionTreeRegressor was fitted without feature names\n",
      "  warnings.warn(\n",
      "C:\\Users\\CLEMENT\\anaconda3\\lib\\site-packages\\sklearn\\base.py:432: UserWarning: X has feature names, but RandomForestRegressor was fitted without feature names\n",
      "  warnings.warn(\n",
      "C:\\Users\\CLEMENT\\anaconda3\\lib\\site-packages\\sklearn\\base.py:432: UserWarning: X has feature names, but SVR was fitted without feature names\n",
      "  warnings.warn(\n",
      "C:\\Users\\CLEMENT\\anaconda3\\lib\\site-packages\\sklearn\\base.py:432: UserWarning: X has feature names, but MLPRegressor was fitted without feature names\n",
      "  warnings.warn(\n"
     ]
    }
   ],
   "source": [
    "# Make predictions on the test data using the Stacking Ensemble model\n",
    "stacked_pred = stacked.predict(X_test)"
   ]
  },
  {
   "cell_type": "code",
   "execution_count": 18,
   "id": "2d6c349d",
   "metadata": {},
   "outputs": [
    {
     "name": "stdout",
     "output_type": "stream",
     "text": [
      "Stacking Ensemble R2: 0.7012391895883912\n",
      "Stacking Ensemble MAE: 0.172751118841852\n",
      "Stacking Ensemble MSE:  0.0429418871498286\n",
      "Stacking Ensemble RMSE: 0.20722424363435038\n"
     ]
    }
   ],
   "source": [
    "# Evaluate the performance of the Stacking Ensemble model using mean squared error\n",
    "stacked_r2 = r2_score(y_test, stacked_pred)\n",
    "stacked_mae = mean_absolute_error(y_test, stacked_pred)\n",
    "stacked_mse = mean_squared_error(y_test, stacked_pred)\n",
    "stacked_rmse = mean_squared_error(y_test, stacked_pred, squared=False)\n",
    "print('Stacking Ensemble R2:', stacked_r2)\n",
    "print('Stacking Ensemble MAE:', stacked_mae)\n",
    "print(\"Stacking Ensemble MSE: \", stacked_mse)\n",
    "print('Stacking Ensemble RMSE:', stacked_rmse)"
   ]
  },
  {
   "cell_type": "code",
   "execution_count": null,
   "id": "1a6d2c79",
   "metadata": {},
   "outputs": [],
   "source": []
  }
 ],
 "metadata": {
  "kernelspec": {
   "display_name": "Python 3",
   "language": "python",
   "name": "python3"
  },
  "language_info": {
   "codemirror_mode": {
    "name": "ipython",
    "version": 3
   },
   "file_extension": ".py",
   "mimetype": "text/x-python",
   "name": "python",
   "nbconvert_exporter": "python",
   "pygments_lexer": "ipython3",
   "version": "3.8.8"
  }
 },
 "nbformat": 4,
 "nbformat_minor": 5
}
